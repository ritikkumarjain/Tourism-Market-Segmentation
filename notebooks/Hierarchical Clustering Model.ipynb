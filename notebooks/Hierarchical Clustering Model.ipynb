{
 "cells": [
  {
   "cell_type": "code",
   "execution_count": 27,
   "metadata": {},
   "outputs": [],
   "source": [
    "import numpy as nm  \n",
    "import matplotlib.pyplot as mtp  \n",
    "import pandas as pd  "
   ]
  },
  {
   "cell_type": "code",
   "execution_count": 28,
   "metadata": {},
   "outputs": [],
   "source": [
    "import scipy.cluster.hierarchy as shc\n",
    "from sklearn.preprocessing import MinMaxScaler,StandardScaler\n",
    "from sklearn.cluster import AgglomerativeClustering  "
   ]
  },
  {
   "cell_type": "code",
   "execution_count": 29,
   "metadata": {},
   "outputs": [
    {
     "data": {
      "text/html": [
       "<div>\n",
       "<style scoped>\n",
       "    .dataframe tbody tr th:only-of-type {\n",
       "        vertical-align: middle;\n",
       "    }\n",
       "\n",
       "    .dataframe tbody tr th {\n",
       "        vertical-align: top;\n",
       "    }\n",
       "\n",
       "    .dataframe thead th {\n",
       "        text-align: right;\n",
       "    }\n",
       "</style>\n",
       "<table border=\"1\" class=\"dataframe\">\n",
       "  <thead>\n",
       "    <tr style=\"text-align: right;\">\n",
       "      <th></th>\n",
       "      <th>Circle</th>\n",
       "      <th>Name of the Monument</th>\n",
       "      <th>Domestic - 2016-17</th>\n",
       "      <th>Foreign - 2016-17</th>\n",
       "      <th>Domestic - 2017-18</th>\n",
       "      <th>Foreign - 2017-18</th>\n",
       "      <th>Domestic Percentage growth - 2017-18/2016-17</th>\n",
       "      <th>Foreign Percentage growth - 2017-18/2016-17</th>\n",
       "      <th>Airport(in km)</th>\n",
       "      <th>Railway(in km)</th>\n",
       "    </tr>\n",
       "  </thead>\n",
       "  <tbody>\n",
       "    <tr>\n",
       "      <th>0</th>\n",
       "      <td>Agra Circle</td>\n",
       "      <td>Taj Mahal</td>\n",
       "      <td>5419608</td>\n",
       "      <td>668403</td>\n",
       "      <td>5663136</td>\n",
       "      <td>794556</td>\n",
       "      <td>4.5</td>\n",
       "      <td>18.9</td>\n",
       "      <td>12.0</td>\n",
       "      <td>6.9</td>\n",
       "    </tr>\n",
       "    <tr>\n",
       "      <th>1</th>\n",
       "      <td>Agra Circle</td>\n",
       "      <td>Agra Fort</td>\n",
       "      <td>1799953</td>\n",
       "      <td>441326</td>\n",
       "      <td>2008208</td>\n",
       "      <td>489822</td>\n",
       "      <td>11.6</td>\n",
       "      <td>11.0</td>\n",
       "      <td>11.0</td>\n",
       "      <td>5.0</td>\n",
       "    </tr>\n",
       "    <tr>\n",
       "      <th>2</th>\n",
       "      <td>Agra Circle</td>\n",
       "      <td>Akbar's Tomb Sikandara</td>\n",
       "      <td>418502</td>\n",
       "      <td>22389</td>\n",
       "      <td>362070</td>\n",
       "      <td>23638</td>\n",
       "      <td>-13.5</td>\n",
       "      <td>5.6</td>\n",
       "      <td>13.0</td>\n",
       "      <td>12.0</td>\n",
       "    </tr>\n",
       "    <tr>\n",
       "      <th>3</th>\n",
       "      <td>Agra Circle</td>\n",
       "      <td>Fatehpur Sikri</td>\n",
       "      <td>427854</td>\n",
       "      <td>126114</td>\n",
       "      <td>962069</td>\n",
       "      <td>301181</td>\n",
       "      <td>124.9</td>\n",
       "      <td>138.8</td>\n",
       "      <td>35.0</td>\n",
       "      <td>37.0</td>\n",
       "    </tr>\n",
       "    <tr>\n",
       "      <th>4</th>\n",
       "      <td>Agra Circle</td>\n",
       "      <td>Itimad-ud-Daulah</td>\n",
       "      <td>108392</td>\n",
       "      <td>129177</td>\n",
       "      <td>138524</td>\n",
       "      <td>76572</td>\n",
       "      <td>27.8</td>\n",
       "      <td>-40.7</td>\n",
       "      <td>15.0</td>\n",
       "      <td>9.0</td>\n",
       "    </tr>\n",
       "  </tbody>\n",
       "</table>\n",
       "</div>"
      ],
      "text/plain": [
       "        Circle    Name of the Monument  Domestic - 2016-17  Foreign - 2016-17  \\\n",
       "0  Agra Circle               Taj Mahal             5419608             668403   \n",
       "1  Agra Circle               Agra Fort             1799953             441326   \n",
       "2  Agra Circle  Akbar's Tomb Sikandara              418502              22389   \n",
       "3  Agra Circle          Fatehpur Sikri              427854             126114   \n",
       "4  Agra Circle        Itimad-ud-Daulah              108392             129177   \n",
       "\n",
       "   Domestic - 2017-18  Foreign - 2017-18  \\\n",
       "0             5663136             794556   \n",
       "1             2008208             489822   \n",
       "2              362070              23638   \n",
       "3              962069             301181   \n",
       "4              138524              76572   \n",
       "\n",
       "   Domestic Percentage growth - 2017-18/2016-17  \\\n",
       "0                                           4.5   \n",
       "1                                          11.6   \n",
       "2                                         -13.5   \n",
       "3                                         124.9   \n",
       "4                                          27.8   \n",
       "\n",
       "   Foreign Percentage growth - 2017-18/2016-17  Airport(in km)  Railway(in km)  \n",
       "0                                         18.9            12.0             6.9  \n",
       "1                                         11.0            11.0             5.0  \n",
       "2                                          5.6            13.0            12.0  \n",
       "3                                        138.8            35.0            37.0  \n",
       "4                                        -40.7            15.0             9.0  "
      ]
     },
     "execution_count": 29,
     "metadata": {},
     "output_type": "execute_result"
    }
   ],
   "source": [
    "df = pd.read_csv(\"Tourism_In_India_Statistics_2018-Table_5 - Tourism_In_India_Statistics_2018-Table_5.csv\")\n",
    "df.head()"
   ]
  },
  {
   "cell_type": "code",
   "execution_count": 30,
   "metadata": {},
   "outputs": [],
   "source": [
    "df_min_max_scaled = df.copy()\n",
    "for column in df_min_max_scaled.columns[2:]:\n",
    "    scaler = StandardScaler()\n",
    "    scaler.fit(df[[column]])\n",
    "    df[column] = scaler.transform(df[[column]])"
   ]
  },
  {
   "cell_type": "code",
   "execution_count": 31,
   "metadata": {},
   "outputs": [
    {
     "data": {
      "text/html": [
       "<div>\n",
       "<style scoped>\n",
       "    .dataframe tbody tr th:only-of-type {\n",
       "        vertical-align: middle;\n",
       "    }\n",
       "\n",
       "    .dataframe tbody tr th {\n",
       "        vertical-align: top;\n",
       "    }\n",
       "\n",
       "    .dataframe thead th {\n",
       "        text-align: right;\n",
       "    }\n",
       "</style>\n",
       "<table border=\"1\" class=\"dataframe\">\n",
       "  <thead>\n",
       "    <tr style=\"text-align: right;\">\n",
       "      <th></th>\n",
       "      <th>Circle</th>\n",
       "      <th>Name of the Monument</th>\n",
       "      <th>Domestic - 2016-17</th>\n",
       "      <th>Foreign - 2016-17</th>\n",
       "      <th>Domestic - 2017-18</th>\n",
       "      <th>Foreign - 2017-18</th>\n",
       "      <th>Domestic Percentage growth - 2017-18/2016-17</th>\n",
       "      <th>Foreign Percentage growth - 2017-18/2016-17</th>\n",
       "      <th>Airport(in km)</th>\n",
       "      <th>Railway(in km)</th>\n",
       "    </tr>\n",
       "  </thead>\n",
       "  <tbody>\n",
       "    <tr>\n",
       "      <th>0</th>\n",
       "      <td>Agra Circle</td>\n",
       "      <td>Taj Mahal</td>\n",
       "      <td>7.065656</td>\n",
       "      <td>7.293979</td>\n",
       "      <td>6.696790</td>\n",
       "      <td>7.677731</td>\n",
       "      <td>-0.435045</td>\n",
       "      <td>-0.128115</td>\n",
       "      <td>-0.770869</td>\n",
       "      <td>-0.344381</td>\n",
       "    </tr>\n",
       "    <tr>\n",
       "      <th>1</th>\n",
       "      <td>Agra Circle</td>\n",
       "      <td>Agra Fort</td>\n",
       "      <td>1.974706</td>\n",
       "      <td>4.714205</td>\n",
       "      <td>1.981703</td>\n",
       "      <td>4.609141</td>\n",
       "      <td>-0.364210</td>\n",
       "      <td>-0.128914</td>\n",
       "      <td>-0.786354</td>\n",
       "      <td>-0.395849</td>\n",
       "    </tr>\n",
       "    <tr>\n",
       "      <th>2</th>\n",
       "      <td>Agra Circle</td>\n",
       "      <td>Akbar's Tomb Sikandara</td>\n",
       "      <td>0.031732</td>\n",
       "      <td>-0.045250</td>\n",
       "      <td>-0.141919</td>\n",
       "      <td>-0.085207</td>\n",
       "      <td>-0.614625</td>\n",
       "      <td>-0.129460</td>\n",
       "      <td>-0.755384</td>\n",
       "      <td>-0.206232</td>\n",
       "    </tr>\n",
       "    <tr>\n",
       "      <th>3</th>\n",
       "      <td>Agra Circle</td>\n",
       "      <td>Fatehpur Sikri</td>\n",
       "      <td>0.044885</td>\n",
       "      <td>1.133148</td>\n",
       "      <td>0.632118</td>\n",
       "      <td>2.709577</td>\n",
       "      <td>0.766147</td>\n",
       "      <td>-0.115993</td>\n",
       "      <td>-0.414706</td>\n",
       "      <td>0.470971</td>\n",
       "    </tr>\n",
       "    <tr>\n",
       "      <th>4</th>\n",
       "      <td>Agra Circle</td>\n",
       "      <td>Itimad-ud-Daulah</td>\n",
       "      <td>-0.404430</td>\n",
       "      <td>1.167946</td>\n",
       "      <td>-0.430307</td>\n",
       "      <td>0.447824</td>\n",
       "      <td>-0.202588</td>\n",
       "      <td>-0.134141</td>\n",
       "      <td>-0.724413</td>\n",
       "      <td>-0.287496</td>\n",
       "    </tr>\n",
       "  </tbody>\n",
       "</table>\n",
       "</div>"
      ],
      "text/plain": [
       "        Circle    Name of the Monument  Domestic - 2016-17  Foreign - 2016-17  \\\n",
       "0  Agra Circle               Taj Mahal            7.065656           7.293979   \n",
       "1  Agra Circle               Agra Fort            1.974706           4.714205   \n",
       "2  Agra Circle  Akbar's Tomb Sikandara            0.031732          -0.045250   \n",
       "3  Agra Circle          Fatehpur Sikri            0.044885           1.133148   \n",
       "4  Agra Circle        Itimad-ud-Daulah           -0.404430           1.167946   \n",
       "\n",
       "   Domestic - 2017-18  Foreign - 2017-18  \\\n",
       "0            6.696790           7.677731   \n",
       "1            1.981703           4.609141   \n",
       "2           -0.141919          -0.085207   \n",
       "3            0.632118           2.709577   \n",
       "4           -0.430307           0.447824   \n",
       "\n",
       "   Domestic Percentage growth - 2017-18/2016-17  \\\n",
       "0                                     -0.435045   \n",
       "1                                     -0.364210   \n",
       "2                                     -0.614625   \n",
       "3                                      0.766147   \n",
       "4                                     -0.202588   \n",
       "\n",
       "   Foreign Percentage growth - 2017-18/2016-17  Airport(in km)  Railway(in km)  \n",
       "0                                    -0.128115       -0.770869       -0.344381  \n",
       "1                                    -0.128914       -0.786354       -0.395849  \n",
       "2                                    -0.129460       -0.755384       -0.206232  \n",
       "3                                    -0.115993       -0.414706        0.470971  \n",
       "4                                    -0.134141       -0.724413       -0.287496  "
      ]
     },
     "execution_count": 31,
     "metadata": {},
     "output_type": "execute_result"
    }
   ],
   "source": [
    "df.head()"
   ]
  },
  {
   "cell_type": "code",
   "execution_count": 32,
   "metadata": {},
   "outputs": [],
   "source": [
    "x = df.iloc[:,2: ].values"
   ]
  },
  {
   "cell_type": "code",
   "execution_count": 33,
   "metadata": {},
   "outputs": [
    {
     "data": {
      "image/png": "[encoded data removed]",
      "text/plain": [
       "<Figure size 432x288 with 1 Axes>"
      ]
     },
     "metadata": {
      "needs_background": "light"
     },
     "output_type": "display_data"
    }
   ],
   "source": [
    "dendro = shc.dendrogram(shc.linkage(x, method=\"ward\"))  \n",
    "mtp.title(\"Dendrogrma Plot\")  \n",
    "mtp.ylabel(\"Euclidean Distances\")  \n",
    "mtp.xlabel(\"Customers\")  \n",
    "mtp.show()"
   ]
  },
  {
   "cell_type": "code",
   "execution_count": 34,
   "metadata": {},
   "outputs": [],
   "source": [
    "hc= AgglomerativeClustering(n_clusters=2, affinity='euclidean', linkage='ward')  \n",
    "y_pred= hc.fit_predict(x)"
   ]
  },
  {
   "cell_type": "code",
   "execution_count": 35,
   "metadata": {},
   "outputs": [],
   "source": [
    "df['clusters'] = y_pred"
   ]
  },
  {
   "cell_type": "code",
   "execution_count": 36,
   "metadata": {},
   "outputs": [],
   "source": [
    "df1 = df[df.clusters==0]\n",
    "df2 = df[df.clusters==1]"
   ]
  },
  {
   "cell_type": "code",
   "execution_count": 37,
   "metadata": {},
   "outputs": [
    {
     "data": {
      "text/plain": [
       "<matplotlib.collections.PathCollection at 0x26b46483880>"
      ]
     },
     "execution_count": 37,
     "metadata": {},
     "output_type": "execute_result"
    },
    {
     "data": {
      "image/png": "[encoded data removed]",
      "text/plain": [
       "<Figure size 432x288 with 1 Axes>"
      ]
     },
     "metadata": {
      "needs_background": "light"
     },
     "output_type": "display_data"
    }
   ],
   "source": [
    "mtp.scatter(df1['Airport(in km)'],df1['Foreign - 2017-18'],c='red')\n",
    "mtp.scatter(df2['Airport(in km)'],df2['Foreign - 2017-18'],c='blue')"
   ]
  }
 ],
 "metadata": {
  "kernelspec": {
   "display_name": "Python 3",
   "language": "python",
   "name": "python3"
  },
  "language_info": {
   "codemirror_mode": {
    "name": "ipython",
    "version": 3
   },
   "file_extension": ".py",
   "mimetype": "text/x-python",
   "name": "python",
   "nbconvert_exporter": "python",
   "pygments_lexer": "ipython3",
   "version": "3.8.5"
  }
 },
 "nbformat": 4,
 "nbformat_minor": 4
}
